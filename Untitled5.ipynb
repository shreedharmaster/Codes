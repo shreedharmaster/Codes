{
  "nbformat": 4,
  "nbformat_minor": 0,
  "metadata": {
    "colab": {
      "provenance": [],
      "authorship_tag": "ABX9TyN72JI29vuZoT+0q3xmnhm5",
      "include_colab_link": true
    },
    "kernelspec": {
      "name": "python3",
      "display_name": "Python 3"
    },
    "language_info": {
      "name": "python"
    }
  },
  "cells": [
    {
      "cell_type": "markdown",
      "metadata": {
        "id": "view-in-github",
        "colab_type": "text"
      },
      "source": [
        "<a href=\"https://colab.research.google.com/github/shreedharmaster/Codes/blob/main/Untitled5.ipynb\" target=\"_parent\"><img src=\"https://colab.research.google.com/assets/colab-badge.svg\" alt=\"Open In Colab\"/></a>"
      ]
    },
    {
      "cell_type": "code",
      "execution_count": 2,
      "metadata": {
        "id": "7_G-HGCUhRZC"
      },
      "outputs": [],
      "source": [
        "def func(I):\n",
        "  print('welcome to python')\n",
        "  print('python is a multipurpose programming language')\n",
        "\n",
        "  print(\"start the python\")\n",
        "  func1()\n",
        "  print(\"you can do anything in datascience using python\")"
      ]
    },
    {
      "cell_type": "code",
      "source": [
        "def func1():\n",
        "    print(\"aur bhai kya haal hai\")\n",
        "    print(\"bdhiya bhai bdhiya\")\n",
        "print(\"haan bhai\")\n",
        "func1()\n",
        "print(\"chl theek hai bhai\")"
      ],
      "metadata": {
        "colab": {
          "base_uri": "https://localhost:8080/"
        },
        "id": "T3mVDJAelOGC",
        "outputId": "47f49ee2-59eb-45ce-8c5b-c785e018aa22"
      },
      "execution_count": 3,
      "outputs": [
        {
          "output_type": "stream",
          "name": "stdout",
          "text": [
            "haan bhai\n",
            "aur bhai kya haal hai\n",
            "bdhiya bhai bdhiya\n",
            "chl theek hai bhai\n"
          ]
        }
      ]
    },
    {
      "cell_type": "code",
      "source": [
        "def calc(num1 :int ,num2:int, operator: chr)->int:\n",
        "    if(operator=='+'):\n",
        "        return num1+num2\n",
        "    elif(operator=='-'):\n",
        "        return num1-num2\n",
        "    elif(operator=='/'):\n",
        "        return num1/num2\n",
        "    else:\n",
        "        return num1*num2\n",
        "\n",
        "print(calc(1,2,'+'))"
      ],
      "metadata": {
        "colab": {
          "base_uri": "https://localhost:8080/"
        },
        "id": "glTt24XipRrg",
        "outputId": "b0a8e8b9-bbe4-4d24-8b99-a23a7435576c"
      },
      "execution_count": 4,
      "outputs": [
        {
          "output_type": "stream",
          "name": "stdout",
          "text": [
            "3\n"
          ]
        }
      ]
    },
    {
      "cell_type": "code",
      "source": [
        "def rev(str):\n",
        "    l=len(str)\n",
        "    ans=\"\"\n",
        "    for i in range(0,l):\n",
        "        ans=ans+str[l-i-1]\n",
        "\n",
        "    print(ans)\n",
        "\n",
        "\n",
        "rev(\"hello\")"
      ],
      "metadata": {
        "colab": {
          "base_uri": "https://localhost:8080/"
        },
        "id": "8s3KQsXFvaE8",
        "outputId": "5d179e60-c079-4832-96db-b93f9fea1254"
      },
      "execution_count": 5,
      "outputs": [
        {
          "output_type": "stream",
          "name": "stdout",
          "text": [
            "olleh\n"
          ]
        }
      ]
    }
  ]
}