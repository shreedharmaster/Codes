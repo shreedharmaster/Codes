{
  "nbformat": 4,
  "nbformat_minor": 0,
  "metadata": {
    "colab": {
      "provenance": [],
      "authorship_tag": "ABX9TyNgax2A0xaEXRLNKl+kvuSU",
      "include_colab_link": true
    },
    "kernelspec": {
      "name": "python3",
      "display_name": "Python 3"
    },
    "language_info": {
      "name": "python"
    }
  },
  "cells": [
    {
      "cell_type": "markdown",
      "metadata": {
        "id": "view-in-github",
        "colab_type": "text"
      },
      "source": [
        "<a href=\"https://colab.research.google.com/github/shreedharmaster/Codes/blob/main/Untitled7.ipynb\" target=\"_parent\"><img src=\"https://colab.research.google.com/assets/colab-badge.svg\" alt=\"Open In Colab\"/></a>"
      ]
    },
    {
      "cell_type": "code",
      "execution_count": 3,
      "metadata": {
        "colab": {
          "base_uri": "https://localhost:8080/"
        },
        "id": "6MwR5-V5EnFN",
        "outputId": "f9fe1971-1d24-408f-c327-73d9e1407f68"
      },
      "outputs": [
        {
          "output_type": "stream",
          "name": "stdout",
          "text": [
            "Enter a number: 3\n",
            "3 is a prime number\n"
          ]
        }
      ],
      "source": [
        "num = int(input(\"Enter a number: \"))\n",
        "if num > 1:\n",
        "    for i in range(2,num):\n",
        "        if (num % i) == 0:\n",
        "            print(num,\"is not a prime number\")\n",
        "            break\n",
        "    else:\n",
        "        print(num,\"is a prime number\")"
      ]
    },
    {
      "cell_type": "code",
      "source": [
        "def checkPrime(num):\n",
        "    c=0\n",
        "    for i in range(2,num):\n",
        "        if (num%i)==0:\n",
        "            c=c+1\n",
        "    return c\n",
        "\n",
        "num=int(input(\"Enter a number\"))\n",
        "result=checkPrime(num)\n",
        "if result <= 1 :\n",
        "    print(\" Number is prime \")\n",
        "else:\n",
        "    if (num%2)==0:\n",
        "        print(\" Number is even \")\n",
        "    else:\n",
        "        print(\"Number is odd but not prime\")"
      ],
      "metadata": {
        "colab": {
          "base_uri": "https://localhost:8080/"
        },
        "id": "rhbgNYmSJh8d",
        "outputId": "e35a6e66-74c6-4205-9df3-db388a9b434a"
      },
      "execution_count": 4,
      "outputs": [
        {
          "output_type": "stream",
          "name": "stdout",
          "text": [
            "Enter a number2\n",
            " Number is prime \n"
          ]
        }
      ]
    },
    {
      "cell_type": "code",
      "source": [
        "\n",
        "\n",
        "nterms = int(input(\"How many terms? \"))\n",
        "\n",
        "n1, n2 = 0, 1\n",
        "count = 0\n",
        "\n",
        "\n",
        "if nterms <= 0:\n",
        "   print(\"Please enter a positive integer\")\n",
        "\n",
        "elif nterms == 1:\n",
        "   print(\"Fibonacci sequence upto\",nterms,\":\")\n",
        "   print(n1)\n",
        "\n",
        "else:\n",
        "   print(\"Fibonacci sequence:\")\n",
        "   while count < nterms:\n",
        "       print(n1)\n",
        "       nth = n1 + n2\n",
        "\n",
        "       n1 = n2\n",
        "       n2 = nth\n",
        "       count += 1\n"
      ],
      "metadata": {
        "colab": {
          "base_uri": "https://localhost:8080/"
        },
        "id": "xO3iwsz5KiTt",
        "outputId": "7ed49279-4193-497f-b4a4-541c10ac4f71"
      },
      "execution_count": 6,
      "outputs": [
        {
          "output_type": "stream",
          "name": "stdout",
          "text": [
            "How many terms? 7\n",
            "Fibonacci sequence:\n",
            "0\n",
            "1\n",
            "1\n",
            "2\n",
            "3\n",
            "5\n",
            "8\n"
          ]
        }
      ]
    },
    {
      "cell_type": "code",
      "source": [
        "def list_sum(arr):\n",
        "    if len(arr) == 0:\n",
        "        return 0\n",
        "    else:\n",
        "        return arr[0] + list_sum(arr[1:])\n",
        "\n",
        "my_list = [1, 2, 3, 4, 5]\n",
        "print(\"Sum of the list:\", list_sum(my_list))"
      ],
      "metadata": {
        "colab": {
          "base_uri": "https://localhost:8080/"
        },
        "id": "yPdwO1iRQuRL",
        "outputId": "0f8a2b7c-6d80-45f5-def5-7927bb1ff636"
      },
      "execution_count": 7,
      "outputs": [
        {
          "output_type": "stream",
          "name": "stdout",
          "text": [
            "Sum of the list: 15\n"
          ]
        }
      ]
    }
  ]
}