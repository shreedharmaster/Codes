{
  "nbformat": 4,
  "nbformat_minor": 0,
  "metadata": {
    "colab": {
      "provenance": [],
      "authorship_tag": "ABX9TyP62qlcZWR+3OAZOOwUGbE/",
      "include_colab_link": true
    },
    "kernelspec": {
      "name": "python3",
      "display_name": "Python 3"
    },
    "language_info": {
      "name": "python"
    }
  },
  "cells": [
    {
      "cell_type": "markdown",
      "metadata": {
        "id": "view-in-github",
        "colab_type": "text"
      },
      "source": [
        "<a href=\"https://colab.research.google.com/github/shreedharmaster/Codes/blob/main/Untitled3.ipynb\" target=\"_parent\"><img src=\"https://colab.research.google.com/assets/colab-badge.svg\" alt=\"Open In Colab\"/></a>"
      ]
    },
    {
      "cell_type": "code",
      "execution_count": 3,
      "metadata": {
        "colab": {
          "base_uri": "https://localhost:8080/"
        },
        "id": "w8BgY4RYobAm",
        "outputId": "f746317c-7e73-4d26-e201-927fc3d688f9"
      },
      "outputs": [
        {
          "output_type": "stream",
          "name": "stdout",
          "text": [
            "Even numbers in the list:  50\n",
            "Odd numbers in the list:  50\n"
          ]
        }
      ],
      "source": [
        "\n",
        "\n",
        "\n",
        "list1 = list(range(1,101))\n",
        "\n",
        "even_count, odd_count = 0, 0\n",
        "\n",
        "for num in list1:\n",
        "\n",
        "\n",
        "\tif num % 2 == 0:\n",
        "\t\teven_count += 1\n",
        "\n",
        "\telse:\n",
        "\t\todd_count += 1\n",
        "\n",
        "print(\"Even numbers in the list: \", even_count)\n",
        "print(\"Odd numbers in the list: \", odd_count)\n"
      ]
    },
    {
      "cell_type": "code",
      "source": [
        "a=[1,2,3,4,5,10,7,9]\n",
        "max=0;\n",
        "for i in a :\n",
        "  if max<i :\n",
        "    max=i;\n",
        "print(max);"
      ],
      "metadata": {
        "colab": {
          "base_uri": "https://localhost:8080/"
        },
        "id": "CEre_u_F6oUs",
        "outputId": "619fb4a5-e59d-4337-9fb8-a048aee8fb81"
      },
      "execution_count": 7,
      "outputs": [
        {
          "output_type": "stream",
          "name": "stdout",
          "text": [
            "10\n"
          ]
        }
      ]
    },
    {
      "cell_type": "code",
      "source": [
        "list = [10,33,53,32]\n",
        "largest_number = list[0]\n",
        "\n",
        "for num in list:\n",
        "    if num > largest_number:\n",
        "     largest_number = num\n",
        "\n",
        "print(\"The largest number in the list is:\", largest_number)"
      ],
      "metadata": {
        "colab": {
          "base_uri": "https://localhost:8080/"
        },
        "id": "03DnSeI-70oE",
        "outputId": "5cac3ec2-7368-4318-fbd4-7b48a1e35422"
      },
      "execution_count": 8,
      "outputs": [
        {
          "output_type": "stream",
          "name": "stdout",
          "text": [
            "The largest number in the list is: 53\n"
          ]
        }
      ]
    },
    {
      "cell_type": "code",
      "source": [],
      "metadata": {
        "id": "rn72t8gPzL90"
      },
      "execution_count": null,
      "outputs": []
    },
    {
      "cell_type": "code",
      "source": [
        "list=[i for i in range (1,101)]\n",
        "list1=[i for i in range(1,101) if i%2==0]\n",
        "list2=[i for i in range(1,101) if i%2!=0]\n",
        "print(list)\n",
        "print('')\n",
        "print(list1)\n",
        "print('')\n",
        "print(list2)\n",
        "print('')\n",
        "print('')\n",
        "print('')\n",
        "list_mixed=[1,\"shreedhar,\" ,2,\"akshat\",3,\"sandeep\",4,\"anshul\"]\n",
        "\n"
      ],
      "metadata": {
        "colab": {
          "base_uri": "https://localhost:8080/"
        },
        "id": "knWJv1IguY3i",
        "outputId": "978dd76b-ec44-432b-8c9a-cfc290d72c7d"
      },
      "execution_count": 5,
      "outputs": [
        {
          "output_type": "stream",
          "name": "stdout",
          "text": [
            "[1, 2, 3, 4, 5, 6, 7, 8, 9, 10, 11, 12, 13, 14, 15, 16, 17, 18, 19, 20, 21, 22, 23, 24, 25, 26, 27, 28, 29, 30, 31, 32, 33, 34, 35, 36, 37, 38, 39, 40, 41, 42, 43, 44, 45, 46, 47, 48, 49, 50, 51, 52, 53, 54, 55, 56, 57, 58, 59, 60, 61, 62, 63, 64, 65, 66, 67, 68, 69, 70, 71, 72, 73, 74, 75, 76, 77, 78, 79, 80, 81, 82, 83, 84, 85, 86, 87, 88, 89, 90, 91, 92, 93, 94, 95, 96, 97, 98, 99, 100]\n",
            "\n",
            "[2, 4, 6, 8, 10, 12, 14, 16, 18, 20, 22, 24, 26, 28, 30, 32, 34, 36, 38, 40, 42, 44, 46, 48, 50, 52, 54, 56, 58, 60, 62, 64, 66, 68, 70, 72, 74, 76, 78, 80, 82, 84, 86, 88, 90, 92, 94, 96, 98, 100]\n",
            "\n",
            "[1, 3, 5, 7, 9, 11, 13, 15, 17, 19, 21, 23, 25, 27, 29, 31, 33, 35, 37, 39, 41, 43, 45, 47, 49, 51, 53, 55, 57, 59, 61, 63, 65, 67, 69, 71, 73, 75, 77, 79, 81, 83, 85, 87, 89, 91, 93, 95, 97, 99]\n",
            "\n",
            "\n",
            "\n"
          ]
        }
      ]
    }
  ]
}