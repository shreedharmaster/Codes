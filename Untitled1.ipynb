{
  "nbformat": 4,
  "nbformat_minor": 0,
  "metadata": {
    "colab": {
      "provenance": [],
      "toc_visible": true,
      "authorship_tag": "ABX9TyMvXM7QsWCTXHFmHOfTG0Zg",
      "include_colab_link": true
    },
    "kernelspec": {
      "name": "python3",
      "display_name": "Python 3"
    },
    "language_info": {
      "name": "python"
    }
  },
  "cells": [
    {
      "cell_type": "markdown",
      "metadata": {
        "id": "view-in-github",
        "colab_type": "text"
      },
      "source": [
        "<a href=\"https://colab.research.google.com/github/shreedharmaster/Codes/blob/main/Untitled1.ipynb\" target=\"_parent\"><img src=\"https://colab.research.google.com/assets/colab-badge.svg\" alt=\"Open In Colab\"/></a>"
      ]
    },
    {
      "cell_type": "code",
      "execution_count": 1,
      "metadata": {
        "colab": {
          "base_uri": "https://localhost:8080/"
        },
        "id": "K3GEkv9a6VOT",
        "outputId": "7e1c4da1-be9a-423c-e118-04ee5648491a"
      },
      "outputs": [
        {
          "output_type": "stream",
          "name": "stdout",
          "text": [
            "\n",
            "*\n",
            "**\n",
            "***\n",
            "****\n",
            "*****\n",
            "******\n",
            "*******\n",
            "********\n",
            "*********\n",
            "**********\n"
          ]
        }
      ],
      "source": [
        "i = 0\n",
        "while i <= 10:\n",
        "  print(i * '*')     #0\n",
        "  i+=1\n",
        ""
      ]
    },
    {
      "cell_type": "code",
      "source": [
        "for i in range(2,20,2):\n",
        "  print(i)"
      ],
      "metadata": {
        "colab": {
          "base_uri": "https://localhost:8080/"
        },
        "id": "nVuiQcCN65aK",
        "outputId": "50c1c60b-9051-4e41-8291-077c123949c0"
      },
      "execution_count": 2,
      "outputs": [
        {
          "output_type": "stream",
          "name": "stdout",
          "text": [
            "2\n",
            "4\n",
            "6\n",
            "8\n",
            "10\n",
            "12\n",
            "14\n",
            "16\n",
            "18\n"
          ]
        }
      ]
    },
    {
      "cell_type": "code",
      "source": [
        "for i in ['shreedhar']:\n",
        "  print(i)\n"
      ],
      "metadata": {
        "colab": {
          "base_uri": "https://localhost:8080/"
        },
        "id": "OAQJ5HWb7L-7",
        "outputId": "2cbd4342-3280-4167-8bbc-c8cacb858321"
      },
      "execution_count": 6,
      "outputs": [
        {
          "output_type": "stream",
          "name": "stdout",
          "text": [
            "shreedhar\n"
          ]
        }
      ]
    },
    {
      "cell_type": "code",
      "source": [
        "a=[1,2]\n",
        "b=[3,4]\n",
        "for i in a:\n",
        "  for j in b:\n",
        "    print(\"inside the inner loop\")\n",
        "    print(i,j)\n",
        "    print(\"outside the inner loop\")\n"
      ],
      "metadata": {
        "colab": {
          "base_uri": "https://localhost:8080/"
        },
        "id": "7gv9oLUX9-H4",
        "outputId": "4a1cfdc6-ee5d-4a15-98c5-af929c77110c"
      },
      "execution_count": 7,
      "outputs": [
        {
          "output_type": "stream",
          "name": "stdout",
          "text": [
            "inside the inner loop\n",
            "1 3\n",
            "outside the inner loop\n",
            "inside the inner loop\n",
            "1 4\n",
            "outside the inner loop\n",
            "inside the inner loop\n",
            "2 3\n",
            "outside the inner loop\n",
            "inside the inner loop\n",
            "2 4\n",
            "outside the inner loop\n"
          ]
        }
      ]
    },
    {
      "cell_type": "code",
      "source": [
        "sec_num = 7\n",
        "guess_count = 0\n",
        "guess= int(input(\"enter the number to guess: \"))\n",
        "while guess_count<=3:\n",
        "  if guess!=sec_num:\n",
        "    print(\"try again\")\n",
        "    guess_count+=1\n",
        "  else:\n",
        "    guess==sec_num\n",
        "    print(\"you won\")\n",
        "    break"
      ],
      "metadata": {
        "colab": {
          "base_uri": "https://localhost:8080/"
        },
        "id": "zfP5xRPZBKNw",
        "outputId": "7a67b0fb-0515-44e2-c165-cd4225b2090f"
      },
      "execution_count": 8,
      "outputs": [
        {
          "output_type": "stream",
          "name": "stdout",
          "text": [
            "enter the number to guess: 3\n",
            "try again\n",
            "try again\n",
            "try again\n",
            "try again\n"
          ]
        }
      ]
    },
    {
      "cell_type": "code",
      "source": [
        "\n",
        "\n",
        "def factorial(n):\n",
        "\n",
        "\n",
        "\treturn 1 if (n==1 or n==0) else n * factorial(n - 1)\n",
        "\n",
        "\n",
        "num = 5\n",
        "print(\"Factorial of\",num,\"is\",factorial(num))\n"
      ],
      "metadata": {
        "colab": {
          "base_uri": "https://localhost:8080/"
        },
        "id": "D_CMXniuC9EY",
        "outputId": "ac655e9f-a711-4060-e9fd-f49397833402"
      },
      "execution_count": 9,
      "outputs": [
        {
          "output_type": "stream",
          "name": "stdout",
          "text": [
            "Factorial of 5 is 120\n"
          ]
        }
      ]
    },
    {
      "cell_type": "code",
      "source": [
        "import math\n",
        "n=int(input(\"enter the number\"))\n",
        "if(n<0):\n",
        "  print (\"factorial is not possible\")\n",
        "elif (n==0):\n",
        "  print(factorial=1)\n",
        "else:\n",
        "  i=1\n",
        "  factorial=1\n",
        "  while(i<=n):\n",
        "    factorial=n*math.factorial(n-1)\n",
        "    i=i+1\n",
        "    print(factorial)"
      ],
      "metadata": {
        "colab": {
          "base_uri": "https://localhost:8080/"
        },
        "id": "UEQbfkRmD1Rp",
        "outputId": "444ab095-c6dd-497b-f83b-802d22b7d271"
      },
      "execution_count": 26,
      "outputs": [
        {
          "output_type": "stream",
          "name": "stdout",
          "text": [
            "enter the number5\n",
            "120\n",
            "120\n",
            "120\n",
            "120\n",
            "120\n"
          ]
        }
      ]
    }
  ]
}