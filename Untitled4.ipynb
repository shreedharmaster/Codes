{
  "nbformat": 4,
  "nbformat_minor": 0,
  "metadata": {
    "colab": {
      "provenance": [],
      "authorship_tag": "ABX9TyOsOJbgIrqMe8nDLteMm0gg",
      "include_colab_link": true
    },
    "kernelspec": {
      "name": "python3",
      "display_name": "Python 3"
    },
    "language_info": {
      "name": "python"
    }
  },
  "cells": [
    {
      "cell_type": "markdown",
      "metadata": {
        "id": "view-in-github",
        "colab_type": "text"
      },
      "source": [
        "<a href=\"https://colab.research.google.com/github/shreedharmaster/Codes/blob/main/Untitled4.ipynb\" target=\"_parent\"><img src=\"https://colab.research.google.com/assets/colab-badge.svg\" alt=\"Open In Colab\"/></a>"
      ]
    },
    {
      "cell_type": "code",
      "execution_count": 1,
      "metadata": {
        "colab": {
          "base_uri": "https://localhost:8080/"
        },
        "id": "R_ifF66q6UQN",
        "outputId": "b3915488-c4eb-43c5-fb72-65cfbd381043"
      },
      "outputs": [
        {
          "output_type": "stream",
          "name": "stdout",
          "text": [
            "2,3,5,7,11,13,17,19,23,29,31,37,41,43,47,53,59,61,67,71,73,79,83,89,97,"
          ]
        }
      ],
      "source": [
        "\n",
        "\n",
        "\n",
        "for i in range(2,101):\n",
        "    for j in range(2,101):\n",
        "        if i%j == 0:\n",
        "            break\n",
        "    if i == j:\n",
        "        print(i,end=\",\")"
      ]
    },
    {
      "cell_type": "code",
      "source": [
        "def is_prime(n):\n",
        "    if n <= 1:\n",
        "        return False\n",
        "    if n == 2:\n",
        "        return True\n",
        "    if n % 2 == 0:\n",
        "        return False\n",
        "    sqrt_n = int(n**0.5) + 1\n",
        "    for i in range(3, sqrt_n, 2):\n",
        "        if n % i == 0:\n",
        "            return False\n",
        "    return True\n",
        "\n",
        "prime_numbers = [n for n in range(1, 101) if is_prime(n)]\n",
        "print(prime_numbers)"
      ],
      "metadata": {
        "colab": {
          "base_uri": "https://localhost:8080/"
        },
        "id": "38GylauWE02c",
        "outputId": "3576beb6-0a66-45cd-c22a-fa1afb68a341"
      },
      "execution_count": 2,
      "outputs": [
        {
          "output_type": "stream",
          "name": "stdout",
          "text": [
            "[2, 3, 5, 7, 11, 13, 17, 19, 23, 29, 31, 37, 41, 43, 47, 53, 59, 61, 67, 71, 73, 79, 83, 89, 97]\n"
          ]
        }
      ]
    },
    {
      "cell_type": "code",
      "source": [
        "# Python3 program to swap elements\n",
        "# at given positions\n",
        "\n",
        "# Swap function\n",
        "def swapPositions(list, pos1, pos2):\n",
        "\n",
        "\tlist[pos1], list[pos2] = list[pos2], list[pos1]\n",
        "\treturn list\n",
        "\n",
        "# Driver function\n",
        "List = [23, 65, 19, 90]\n",
        "pos1, pos2 = 1, 3\n",
        "\n",
        "print(swapPositions(List, pos1-1, pos2-1))\n"
      ],
      "metadata": {
        "colab": {
          "base_uri": "https://localhost:8080/"
        },
        "id": "S6MvqXXaFOD2",
        "outputId": "d34f1a40-d312-4eff-b8e2-7476aec62d2e"
      },
      "execution_count": 3,
      "outputs": [
        {
          "output_type": "stream",
          "name": "stdout",
          "text": [
            "[19, 65, 23, 90]\n"
          ]
        }
      ]
    },
    {
      "cell_type": "code",
      "source": [
        "# Python3 program to swap first\n",
        "# and last element of a list\n",
        "\n",
        "# Swap function\n",
        "def swapList(newList):\n",
        "\tsize = len(newList)\n",
        "\n",
        "\t# Swapping\n",
        "\ttemp = newList[0]\n",
        "\tnewList[0] = newList[size - 1]\n",
        "\tnewList[size - 1] = temp\n",
        "\n",
        "\treturn newList\n",
        "\n",
        "# Driver code\n",
        "newList = [12, 35, 9, 56, 24]\n",
        "\n",
        "print(swapList(newList))\n"
      ],
      "metadata": {
        "colab": {
          "base_uri": "https://localhost:8080/"
        },
        "id": "mpMn63uPF9O5",
        "outputId": "fea9589c-477a-4054-87aa-58cbbafac70a"
      },
      "execution_count": 4,
      "outputs": [
        {
          "output_type": "stream",
          "name": "stdout",
          "text": [
            "[24, 35, 9, 56, 12]\n"
          ]
        }
      ]
    },
    {
      "cell_type": "code",
      "source": [
        "lst = [1, 2, 3, 4, 5]\n",
        "print(\"Original list:\", lst)\n",
        "if len(lst) < 2:\n",
        "        print(\"The list must have at least two elements.\")\n",
        "else:\n",
        "    lst[0], lst[-1] = lst[-1], lst[0]\n",
        "    print(\"List after swapping first and last elements:\", lst)"
      ],
      "metadata": {
        "colab": {
          "base_uri": "https://localhost:8080/"
        },
        "id": "Ac7US63OGEsc",
        "outputId": "df743a08-6c63-478a-950d-9e0b912bbc51"
      },
      "execution_count": 5,
      "outputs": [
        {
          "output_type": "stream",
          "name": "stdout",
          "text": [
            "Original list: [1, 2, 3, 4, 5]\n",
            "List after swapping first and last elements: [5, 2, 3, 4, 1]\n"
          ]
        }
      ]
    },
    {
      "cell_type": "code",
      "source": [
        "def swap(lst):\n",
        "    if len(lst) >= 2:\n",
        "        lst[0], lst[-1] = lst[-1], lst[0]\n",
        "    return lst\n",
        "\n",
        "list = [10,20,30]\n",
        "print(\"Original List:\", list)\n",
        "swapped_list = swap(list)\n",
        "print(\"After swapping:\", swapped_list)"
      ],
      "metadata": {
        "colab": {
          "base_uri": "https://localhost:8080/"
        },
        "id": "3KY9rSu3I4WR",
        "outputId": "48f711e9-d54a-4967-bc0a-d11f8d5f7be8"
      },
      "execution_count": 6,
      "outputs": [
        {
          "output_type": "stream",
          "name": "stdout",
          "text": [
            "Original List: [10, 20, 30]\n",
            "After swapping: [30, 20, 10]\n"
          ]
        }
      ]
    },
    {
      "cell_type": "code",
      "source": [
        "def swap(lst):\n",
        "    if len(lst) >= 2:\n",
        "        lst[0], lst[-1] = lst[-1], lst[0]\n",
        "    return lst\n",
        "\n",
        "list = [10,20,30]\n",
        "print(\"Original List:\", list)\n",
        "swapped_list = swap(list)\n",
        "print(\"After swapping:\", swapped_list)"
      ],
      "metadata": {
        "colab": {
          "base_uri": "https://localhost:8080/"
        },
        "id": "swFEu9dKJ-K3",
        "outputId": "e133b7cc-1f60-43e4-e456-b67c161f5166"
      },
      "execution_count": 7,
      "outputs": [
        {
          "output_type": "stream",
          "name": "stdout",
          "text": [
            "Original List: [10, 20, 30]\n",
            "After swapping: [30, 20, 10]\n"
          ]
        }
      ]
    },
    {
      "cell_type": "code",
      "source": [
        "'''wap to remove duplicates from a list'''\n",
        "\n",
        "my_list = [1, 2, 3, 4, 2, 3, 5]\n",
        "\n",
        "unique_list = []\n",
        "\n",
        "for item in my_list:\n",
        "\n",
        "    if item not in unique_list:\n",
        "        unique_list.append(item)\n",
        "\n",
        "print(unique_list)"
      ],
      "metadata": {
        "colab": {
          "base_uri": "https://localhost:8080/"
        },
        "id": "qbsM4PIsKIH5",
        "outputId": "5d6c2a69-0b32-46a7-c3f7-2eb2c9aacc8b"
      },
      "execution_count": 8,
      "outputs": [
        {
          "output_type": "stream",
          "name": "stdout",
          "text": [
            "[1, 2, 3, 4, 5]\n"
          ]
        }
      ]
    }
  ]
}