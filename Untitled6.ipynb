{
  "nbformat": 4,
  "nbformat_minor": 0,
  "metadata": {
    "colab": {
      "provenance": [],
      "authorship_tag": "ABX9TyOtMw6VSVJHmm/ef9eWwe8d",
      "include_colab_link": true
    },
    "kernelspec": {
      "name": "python3",
      "display_name": "Python 3"
    },
    "language_info": {
      "name": "python"
    }
  },
  "cells": [
    {
      "cell_type": "markdown",
      "metadata": {
        "id": "view-in-github",
        "colab_type": "text"
      },
      "source": [
        "<a href=\"https://colab.research.google.com/github/shreedharmaster/Codes/blob/main/Untitled6.ipynb\" target=\"_parent\"><img src=\"https://colab.research.google.com/assets/colab-badge.svg\" alt=\"Open In Colab\"/></a>"
      ]
    },
    {
      "cell_type": "code",
      "execution_count": 3,
      "metadata": {
        "id": "uS7ij0_CqGqX"
      },
      "outputs": [],
      "source": [
        "def square(n):\n",
        "  return n**2\n",
        "def sum(a,b):\n",
        "  square(a)\n",
        "  return a+b\n",
        "\n",
        "\n",
        "\n",
        "  result=square\n",
        "  print(result(5))\n",
        "  summation=sum(5,7)"
      ]
    },
    {
      "cell_type": "code",
      "source": [
        "def frequency(ch:chr,str):\n",
        "    count=0\n",
        "    for i in range(0,len(str)):\n",
        "        if str[i]==ch:\n",
        "            count=count+1\n",
        "\n",
        "    print(count)\n",
        "\n",
        "frequency('l',\"hwllo\")"
      ],
      "metadata": {
        "colab": {
          "base_uri": "https://localhost:8080/"
        },
        "id": "WRa8meUz0JAZ",
        "outputId": "9ac046d5-7f9e-4a6c-d56f-62f15c105601"
      },
      "execution_count": 4,
      "outputs": [
        {
          "output_type": "stream",
          "name": "stdout",
          "text": [
            "2\n"
          ]
        }
      ]
    },
    {
      "cell_type": "code",
      "source": [
        "def frequency(str):\n",
        "    count=0\n",
        "    str=str+' '+'a'\n",
        "    for i in range(0,len(str)):\n",
        "        if str[i]==' ' and str[i+1]!=' ':\n",
        "            count=count+1\n",
        "\n",
        "    print(count)\n",
        "\n",
        "frequency(input(\"enter sentence\"))"
      ],
      "metadata": {
        "colab": {
          "base_uri": "https://localhost:8080/"
        },
        "id": "HoNacqW25g9v",
        "outputId": "273958f4-b5da-4ca5-a54f-961c6298feef"
      },
      "execution_count": 5,
      "outputs": [
        {
          "output_type": "stream",
          "name": "stdout",
          "text": [
            "enter sentencei am the best\n",
            "4\n"
          ]
        }
      ]
    },
    {
      "cell_type": "code",
      "source": [],
      "metadata": {
        "id": "DYJgpjKW6HAm"
      },
      "execution_count": null,
      "outputs": []
    }
  ]
}