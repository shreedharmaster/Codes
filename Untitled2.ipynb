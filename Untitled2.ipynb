{
  "nbformat": 4,
  "nbformat_minor": 0,
  "metadata": {
    "colab": {
      "provenance": [],
      "authorship_tag": "ABX9TyPUcQphdL2FqVYVEA8/2Ya9",
      "include_colab_link": true
    },
    "kernelspec": {
      "name": "python3",
      "display_name": "Python 3"
    },
    "language_info": {
      "name": "python"
    }
  },
  "cells": [
    {
      "cell_type": "markdown",
      "metadata": {
        "id": "view-in-github",
        "colab_type": "text"
      },
      "source": [
        "<a href=\"https://colab.research.google.com/github/shreedharmaster/Codes/blob/main/Untitled2.ipynb\" target=\"_parent\"><img src=\"https://colab.research.google.com/assets/colab-badge.svg\" alt=\"Open In Colab\"/></a>"
      ]
    },
    {
      "cell_type": "code",
      "execution_count": 1,
      "metadata": {
        "colab": {
          "base_uri": "https://localhost:8080/"
        },
        "id": "FpNfyVh_e-92",
        "outputId": "0c7f9789-50b4-4881-aa6d-0324ef5281d2"
      },
      "outputs": [
        {
          "output_type": "stream",
          "name": "stdout",
          "text": [
            "//\n",
            "\n",
            "\n",
            "[1, 2, 'shreedhar']\n",
            "1\n",
            "shreedhar\n",
            "\n",
            "1\n",
            "\n",
            "\n",
            "(1, 2, 'shreedhar')\n",
            "1\n",
            "shreedhar\n"
          ]
        }
      ],
      "source": [
        "print(\"//\")\n",
        "\n",
        "print(\"\")\n",
        "print(\"\")\n",
        "\n",
        "l1=[1,2,\"shreedhar\"]\n",
        "print(l1)\n",
        "print(l1[0])\n",
        "print(l1[2])\n",
        "print(\"\")\n",
        "l1.append(7)\n",
        "print(1)\n",
        "\n",
        "print(\"\")\n",
        "print(\"\")\n",
        "\n",
        "t1=(1,2,\"shreedhar\")\n",
        "print(t1)\n",
        "print(t1[0])\n",
        "print(t1[2])"
      ]
    }
  ]
}