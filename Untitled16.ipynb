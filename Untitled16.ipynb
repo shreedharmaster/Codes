{
  "nbformat": 4,
  "nbformat_minor": 0,
  "metadata": {
    "colab": {
      "provenance": [],
      "authorship_tag": "ABX9TyOr/bCPK1z70p9Shg6kckPz",
      "include_colab_link": true
    },
    "kernelspec": {
      "name": "python3",
      "display_name": "Python 3"
    },
    "language_info": {
      "name": "python"
    }
  },
  "cells": [
    {
      "cell_type": "markdown",
      "metadata": {
        "id": "view-in-github",
        "colab_type": "text"
      },
      "source": [
        "<a href=\"https://colab.research.google.com/github/shreedharmaster/Codes/blob/main/Untitled16.ipynb\" target=\"_parent\"><img src=\"https://colab.research.google.com/assets/colab-badge.svg\" alt=\"Open In Colab\"/></a>"
      ]
    },
    {
      "cell_type": "code",
      "execution_count": 1,
      "metadata": {
        "colab": {
          "base_uri": "https://localhost:8080/"
        },
        "id": "DmyhWHWkl9mE",
        "outputId": "aa18555a-3f06-47db-b236-981b143c8581"
      },
      "outputs": [
        {
          "name": "stdout",
          "output_type": "stream",
          "text": [
            "\n",
            "Options:\n",
            "1. Add password\n",
            "2. Retrieve password\n",
            "3. Exit\n",
            "Enter your choice: 1\n",
            "Enter website name: www.shreedhar.com\n",
            "Enter username: shreedhar\n",
            "Enter password: ··········\n",
            "Password added successfully!\n",
            "\n",
            "Options:\n",
            "1. Add password\n",
            "2. Retrieve password\n",
            "3. Exit\n",
            "Enter your choice: 2\n",
            "Enter website name: www.shreedhar.com\n",
            "Username: shreedhar\n",
            "Password: 12345\n",
            "\n",
            "Options:\n",
            "1. Add password\n",
            "2. Retrieve password\n",
            "3. Exit\n",
            "Enter your choice: 3\n"
          ]
        },
        {
          "output_type": "execute_result",
          "data": {
            "text/plain": [
              "11"
            ]
          },
          "metadata": {},
          "execution_count": 1
        }
      ],
      "source": [
        "import getpass\n",
        "\n",
        "# Dictionary to store passwords\n",
        "passwords = {}\n",
        "\n",
        "# Function to add a password\n",
        "def add_password(website, username, password):\n",
        "    passwords[website] = (username, password)\n",
        "    print(\"Password added successfully!\")\n",
        "\n",
        "# Function to retrieve a password\n",
        "def get_password(website):\n",
        "    if website in passwords:\n",
        "        username, password = passwords[website]\n",
        "        print(\"Username:\", username)\n",
        "        print(\"Password:\", password)\n",
        "    else:\n",
        "        print(\"No password saved for this website.\")\n",
        "\n",
        "# Main function to manage passwords\n",
        "def main():\n",
        "    while True:\n",
        "        print(\"\\nOptions:\")\n",
        "        print(\"1. Add password\")\n",
        "        print(\"2. Retrieve password\")\n",
        "        print(\"3. Exit\")\n",
        "\n",
        "        choice = input(\"Enter your choice: \")\n",
        "\n",
        "        if choice == '1':\n",
        "            website = input(\"Enter website name: \")\n",
        "            username = input(\"Enter username: \")\n",
        "            password = getpass.getpass(\"Enter password: \")\n",
        "            add_password(website, username, password)\n",
        "        elif choice == '2':\n",
        "            website = input(\"Enter website name: \")\n",
        "            get_password(website)\n",
        "        elif choice == '3':\n",
        "            break\n",
        "        else:\n",
        "            print(\"Invalid choice. Please try again.\")\n",
        "\n",
        "if __name__ == \"__main__\":\n",
        "    main()\n",
        "11"
      ]
    }
  ]
}